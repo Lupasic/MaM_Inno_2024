{
  "nbformat": 4,
  "nbformat_minor": 0,
  "metadata": {
    "colab": {
      "provenance": []
    },
    "kernelspec": {
      "name": "python3",
      "display_name": "Python 3"
    }
  },
  "cells": [
    {
      "cell_type": "markdown",
      "metadata": {
        "id": "8MrLSNL5Lrh0"
      },
      "source": [
        "# Dynamics of a four-link bar - analytical solution\n",
        "The idea of a solution we are going to implement is to calculate kinematics of a four-link bar knowing it's geometry and angular acceleration of the first joint. From kinematics we can find all positions, velocities and angular velocities, which will allow us to construct Lagrangian equation and get the desired torque function."
      ]
    },
    {
      "cell_type": "code",
      "metadata": {
        "id": "LgbaJxgy34ST"
      },
      "source": [
        "import numpy as np\n",
        "import sympy as sp\n",
        "import matplotlib.pyplot as plt"
      ],
      "execution_count": null,
      "outputs": []
    },
    {
      "cell_type": "markdown",
      "metadata": {
        "id": "dJ35FLu3NAz8"
      },
      "source": [
        "### Constants and equations"
      ]
    },
    {
      "cell_type": "code",
      "metadata": {
        "id": "h7mnzo_G8L8G"
      },
      "source": [
        "m1 = 0.12182\n",
        "I1 = 1.6519e-4\n",
        "m2 = 0.18498\n",
        "I2 = 2.8375e-4\n",
        "m3 = 0.34023\n",
        "I3 = 1.5509e-3\n",
        "g = 9.18\n",
        "\n",
        "O1A = 0.09\n",
        "AB = 0.042426\n",
        "BO2 = 0.077621\n",
        "O2 = sp.Matrix([0.045, -0.05])\n",
        "e = 0.2\n",
        "q0 = -9*sp.pi/180\n",
        "\n",
        "def A(q):\n",
        "    return sp.Matrix(\n",
        "        [O1A * sp.cos(q),\n",
        "         O1A * sp.sin(q)]\n",
        "    )\n",
        "\n",
        "def B(q):\n",
        "    Ac = A(q)\n",
        "    R = sp.sqrt((O2[0] - Ac[0])**2 + (O2[1] - Ac[1])**2)\n",
        "    return sp.Matrix(\n",
        "        [0.5*(Ac[0]+O2[0])+(AB**2-BO2**2)*(O2[0]-Ac[0])/(2*R**2)-0.5*sp.sqrt(2*(AB**2+BO2**2)/R**2-(AB**2-BO2**2)**2/R**4-1)*(O2[1]-Ac[1]),\n",
        "         0.5*(Ac[1]+O2[1])+(AB**2-BO2**2)*(O2[1]-Ac[1])/(2*R**2)+0.5*sp.sqrt(2*(AB**2+BO2**2)/R**2-(AB**2-BO2**2)**2/R**4-1)*(O2[0]-Ac[0])]\n",
        "    )\n",
        "\n",
        "def CM1(q):\n",
        "    return 0.5 * A(q)\n",
        "\n",
        "def CM2(q):\n",
        "    Ac = A(q)\n",
        "    Bc = B(q)\n",
        "    return Bc + 0.01105 * (Bc - Ac) / AB\n",
        "\n",
        "def CM3(q):\n",
        "    Bc = B(q)\n",
        "    q3 = sp.atan2(Bc[1]-O2[1], Bc[0]-O2[0])\n",
        "    return sp.Matrix(\n",
        "        [0.0144*sp.cos(q3+np.deg2rad(112.443))+O2[0],\n",
        "         0.0144*sp.sin(q3+np.deg2rad(112.443))+O2[1]]\n",
        "    )"
      ],
      "execution_count": null,
      "outputs": []
    },
    {
      "cell_type": "markdown",
      "metadata": {
        "id": "5XFLkjwLNECW"
      },
      "source": [
        "### Angular velocities of COMs"
      ]
    },
    {
      "cell_type": "code",
      "metadata": {
        "id": "ElYTx7sxk8l0"
      },
      "source": [
        "t = sp.Symbol('t', real=True)\n",
        "q_sym = sp.Function('q')(t)\n",
        "q_dot = q_sym.diff(t)\n",
        "q_ex = q0 + 0.5 * e * t**2\n",
        "v1 = CM1(q_sym).diff(t)\n",
        "v2 = CM2(q_sym).diff(t)\n",
        "v3 = CM3(q_sym).diff(t)\n",
        "v1_abs = sp.sqrt(v1[0]**2 + v1[1]**2)\n",
        "v2_abs = sp.sqrt(v2[0]**2 + v2[1]**2)\n",
        "v3_abs = sp.sqrt(v3[0]**2 + v3[1]**2)\n",
        "w1 = v1_abs / (O1A / 2)\n",
        "w2 = v2_abs / (AB + 0.01105)\n",
        "w3 = v3_abs / 0.0144"
      ],
      "execution_count": null,
      "outputs": []
    },
    {
      "cell_type": "markdown",
      "metadata": {
        "id": "Ik2jBFtlNHxW"
      },
      "source": [
        "### Energy of the system"
      ]
    },
    {
      "cell_type": "code",
      "metadata": {
        "id": "8DH9O7q0jDUo"
      },
      "source": [
        "T = 0.5 * (I1 * w1**2 + m1 * v1_abs**2) + \\\n",
        "    0.5 * (I2 * w2**2 + m2 * v2_abs**2) + \\\n",
        "    0.5 * (I3 * w3**2 + m3 * v3_abs**2)\n",
        "P = m1 * g * CM1(q_sym)[1] + m2 * g * CM2(q_sym)[1] + m3 * g * CM3(q_sym)[1]\n",
        "L = T - P\n",
        "M = L.diff(q_sym.diff(t)).diff(t) - L.diff(q_sym)"
      ],
      "execution_count": null,
      "outputs": []
    },
    {
      "cell_type": "markdown",
      "metadata": {
        "id": "JqjsEgnINKMW"
      },
      "source": [
        "### Simulation (takes up to 1-2 minutes)"
      ]
    },
    {
      "cell_type": "code",
      "metadata": {
        "id": "WjYHWhgeuJC_"
      },
      "source": [
        "q_func = q0 + 0.5 * e * t**2\n",
        "M_of_t = M.subs(q_sym, q_func)\n",
        "Ms = []\n",
        "ts = np.linspace(0, 3.15, 66)\n",
        "for cur_t in ts:\n",
        "  Ms.append(M_of_t.subs(t, cur_t).evalf().doit())"
      ],
      "execution_count": null,
      "outputs": []
    },
    {
      "cell_type": "markdown",
      "metadata": {
        "id": "on3JFoAZM1We"
      },
      "source": [
        "### Ansys results"
      ]
    },
    {
      "cell_type": "code",
      "metadata": {
        "id": "Vlv0DkpOKtxm"
      },
      "source": [
        "M_ansys = [\n",
        "    0.1305,\n",
        "    0.13052,\n",
        "    0.1305,\n",
        "    0.13058,\n",
        "    0.13075,\n",
        "    0.13099,\n",
        "    0.13131,\n",
        "    0.13171,\n",
        "    0.13218,\n",
        "    0.13272,\n",
        "    0.13331,\n",
        "    0.13396,\n",
        "    0.13465,\n",
        "    0.13538,\n",
        "    0.13614,\n",
        "    0.13691,\n",
        "    0.1377,\n",
        "    0.13849,\n",
        "    0.13927,\n",
        "    0.14003,\n",
        "    0.14078,\n",
        "    0.14149,\n",
        "    0.14216,\n",
        "    0.14278,\n",
        "    0.14335,\n",
        "    0.14385,\n",
        "    0.14428,\n",
        "    0.14464,\n",
        "    0.14491,\n",
        "    0.14509,\n",
        "    0.14517,\n",
        "    0.14514,\n",
        "    0.14501,\n",
        "    0.14476,\n",
        "    0.14438,\n",
        "    0.14388,\n",
        "    0.14325,\n",
        "    0.14247,\n",
        "    0.14155,\n",
        "    0.14048,\n",
        "    0.13925,\n",
        "    0.13785,\n",
        "    0.13629,\n",
        "    0.13455,\n",
        "    0.13263,\n",
        "    0.13052,\n",
        "    0.12821,\n",
        "    0.12569,\n",
        "    0.12297,\n",
        "    0.12002,\n",
        "    0.11684,\n",
        "    0.11342,\n",
        "    0.10975,\n",
        "    0.10582,\n",
        "    0.10161,\n",
        "    0.097101,\n",
        "    0.092283,\n",
        "    0.087134,\n",
        "    0.081634,\n",
        "    0.075766,\n",
        "    0.069525,\n",
        "    0.062952,\n",
        "    0.056238,\n",
        "    0.050121,\n",
        "    0.047893,\n",
        "    0.054844,\n",
        "]\n",
        "\n",
        "t_ansys = [\n",
        "    0,  \n",
        "    0.01,\n",
        "    0.03,\n",
        "    0.07,\n",
        "    0.12,\n",
        "    0.17,  \n",
        "    0.22,  \n",
        "    0.27,  \n",
        "    0.32,  \n",
        "    0.37, \n",
        "    0.42,  \n",
        "    0.47,  \n",
        "    0.52,  \n",
        "    0.57,  \n",
        "    0.62,  \n",
        "    0.67,  \n",
        "    0.72,  \n",
        "    0.77,  \n",
        "    0.82,  \n",
        "    0.87,  \n",
        "    0.92,  \n",
        "    0.97,  \n",
        "    1.02,  \n",
        "    1.07,  \n",
        "    1.12,  \n",
        "    1.17,  \n",
        "    1.22,  \n",
        "    1.27,  \n",
        "    1.32,  \n",
        "    1.37,  \n",
        "    1.42,  \n",
        "    1.47,  \n",
        "    1.52,  \n",
        "    1.57,  \n",
        "    1.62,  \n",
        "    1.67,  \n",
        "    1.72,  \n",
        "    1.77, \n",
        "    1.82,  \n",
        "    1.87,  \n",
        "    1.92,  \n",
        "    1.97,  \n",
        "    2.02,  \n",
        "    2.07,  \n",
        "    2.12,  \n",
        "    2.17,  \n",
        "    2.22,  \n",
        "    2.27,  \n",
        "    2.32,  \n",
        "    2.37,  \n",
        "    2.42,  \n",
        "    2.47,  \n",
        "    2.52,  \n",
        "    2.57,  \n",
        "    2.62,  \n",
        "    2.67,  \n",
        "    2.72,  \n",
        "    2.77,  \n",
        "    2.82,  \n",
        "    2.87,  \n",
        "    2.92,  \n",
        "    2.97,  \n",
        "    3.02,  \n",
        "    3.07,  \n",
        "    3.12,  \n",
        "    3.15,  \n",
        "]"
      ],
      "execution_count": null,
      "outputs": []
    },
    {
      "cell_type": "markdown",
      "metadata": {
        "id": "v4-nwGJsM4xn"
      },
      "source": [
        "### Comparison"
      ]
    },
    {
      "cell_type": "code",
      "metadata": {
        "colab": {
          "base_uri": "https://localhost:8080/",
          "height": 265
        },
        "id": "tyYAG33l1Boq",
        "outputId": "3fb5c893-3881-41a2-913d-75c512198193"
      },
      "source": [
        "plt.plot(ts, Ms, label='Analytic solution')\n",
        "plt.plot(t_ansys, M_ansys, label='ANSYS')\n",
        "plt.legend()\n",
        "plt.grid()\n",
        "plt.show()"
      ],
      "execution_count": null,
      "outputs": [
        {
          "output_type": "display_data",
          "data": {
            "image/png": "[encoded data removed]",
            "text/plain": [
              "<Figure size 432x288 with 1 Axes>"
            ]
          },
          "metadata": {
            "tags": [],
            "needs_background": "light"
          }
        }
      ]
    }
  ]
}